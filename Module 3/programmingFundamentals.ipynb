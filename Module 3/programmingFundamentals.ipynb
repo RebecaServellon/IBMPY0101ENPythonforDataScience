{
 "cells": [
  {
   "attachments": {},
   "cell_type": "markdown",
   "metadata": {},
   "source": [
    "# **Programming Fundamentals**"
   ]
  },
  {
   "attachments": {},
   "cell_type": "markdown",
   "metadata": {},
   "source": [
    "**Conditions and branching**"
   ]
  },
  {
   "attachments": {},
   "cell_type": "markdown",
   "metadata": {},
   "source": [
    "Branching allows us to run different statements for a different input."
   ]
  },
  {
   "cell_type": "code",
   "execution_count": 1,
   "metadata": {},
   "outputs": [
    {
     "name": "stdout",
     "output_type": "stream",
     "text": [
      "x es positivo\n"
     ]
    }
   ],
   "source": [
    "x = 10\n",
    "\n",
    "if x > 0:\n",
    "    print(\"x es positivo\")\n",
    "elif x < 0:\n",
    "    print(\"x es negativo\")\n",
    "else:\n",
    "    print(\"x es cero\")\n"
   ]
  },
  {
   "attachments": {},
   "cell_type": "markdown",
   "metadata": {},
   "source": [
    "**Loops**"
   ]
  },
  {
   "attachments": {},
   "cell_type": "markdown",
   "metadata": {},
   "source": [
    "for\n",
    "\n",
    "used to iterate over a sequence (such as a list, tuple, or string) or any iterable object"
   ]
  },
  {
   "cell_type": "code",
   "execution_count": 2,
   "metadata": {},
   "outputs": [
    {
     "name": "stdout",
     "output_type": "stream",
     "text": [
      "apple\n",
      "banana\n",
      "cherry\n"
     ]
    }
   ],
   "source": [
    "fruits = ['apple', 'banana', 'cherry']\n",
    "for fruit in fruits:\n",
    "    print(fruit)"
   ]
  },
  {
   "attachments": {},
   "cell_type": "markdown",
   "metadata": {},
   "source": [
    "while\n",
    "\n",
    "repeatedly executes a block of code as long as a specified condition is true"
   ]
  },
  {
   "cell_type": "code",
   "execution_count": 3,
   "metadata": {},
   "outputs": [
    {
     "name": "stdout",
     "output_type": "stream",
     "text": [
      "0\n",
      "1\n",
      "2\n",
      "3\n",
      "4\n"
     ]
    }
   ],
   "source": [
    "count = 0\n",
    "while count < 5:\n",
    "    print(count)\n",
    "    count += 1"
   ]
  },
  {
   "attachments": {},
   "cell_type": "markdown",
   "metadata": {},
   "source": [
    "nested loops\n",
    "\n",
    "loops inside loops"
   ]
  },
  {
   "cell_type": "code",
   "execution_count": 4,
   "metadata": {},
   "outputs": [
    {
     "name": "stdout",
     "output_type": "stream",
     "text": [
      "1 \n",
      "1 2 \n",
      "1 2 3 \n"
     ]
    }
   ],
   "source": [
    "for i in range(1, 4):\n",
    "    for j in range(1, i + 1):\n",
    "        print(j, end = \" \")\n",
    "    print()"
   ]
  },
  {
   "attachments": {},
   "cell_type": "markdown",
   "metadata": {},
   "source": [
    "loop control statements\n",
    "\n",
    "using break, continue, pass to control the flow of loops"
   ]
  },
  {
   "cell_type": "code",
   "execution_count": 10,
   "metadata": {},
   "outputs": [
    {
     "name": "stdout",
     "output_type": "stream",
     "text": [
      "1\n"
     ]
    }
   ],
   "source": [
    "numbers = [1, 2, 3, 4, 5]\n",
    "for num in numbers:\n",
    "    if num == 3:\n",
    "        break  # Exit the loop when num is 3\n",
    "    if num == 2:\n",
    "        continue  # Skip the iteration when num is 2\n",
    "    print(num)"
   ]
  },
  {
   "attachments": {},
   "cell_type": "markdown",
   "metadata": {},
   "source": [
    "range function\n",
    "\n",
    "range(N) = [0, ..., N - 1]\n",
    "\n",
    "function generates a sequence of numbers that can be used in loops"
   ]
  },
  {
   "cell_type": "code",
   "execution_count": 12,
   "metadata": {},
   "outputs": [
    {
     "name": "stdout",
     "output_type": "stream",
     "text": [
      "10\n",
      "11\n",
      "12\n",
      "13\n",
      "14\n",
      "15\n"
     ]
    }
   ],
   "source": [
    "for num in range(10, 16):\n",
    "    print(num)"
   ]
  },
  {
   "attachments": {},
   "cell_type": "markdown",
   "metadata": {},
   "source": [
    "enumerate function\n",
    "\n",
    "```python\n",
    "enumerate(iterable, start=0)\n",
    "```\n",
    "\n",
    "returns an iterator that generates tuples containing the index and the element of the iterable."
   ]
  },
  {
   "cell_type": "code",
   "execution_count": 15,
   "metadata": {},
   "outputs": [
    {
     "name": "stdout",
     "output_type": "stream",
     "text": [
      "5 apple\n",
      "6 banana\n",
      "7 cherry\n"
     ]
    }
   ],
   "source": [
    "fruits = ['apple', 'banana', 'cherry']\n",
    "\n",
    "for index, fruit in enumerate(fruits, start = 5):\n",
    "    print(index, fruit)\n"
   ]
  },
  {
   "attachments": {},
   "cell_type": "markdown",
   "metadata": {},
   "source": [
    "**Functions**"
   ]
  },
  {
   "attachments": {},
   "cell_type": "markdown",
   "metadata": {},
   "source": [
    "Functions are a way to organize and reuse blocks of code. They allow you to encapsulate a set of instructions into a single named entity, which can be called and executed whenever needed."
   ]
  },
  {
   "cell_type": "code",
   "execution_count": 16,
   "metadata": {},
   "outputs": [
    {
     "name": "stdout",
     "output_type": "stream",
     "text": [
      "Hello, World!\n",
      "Hello, Alice!\n"
     ]
    }
   ],
   "source": [
    "def greet(name=\"World\"):\n",
    "    print(\"Hello, \" + name + \"!\")\n",
    "\n",
    "greet() \n",
    "\n",
    "greet(\"Alice\") "
   ]
  },
  {
   "attachments": {},
   "cell_type": "markdown",
   "metadata": {},
   "source": [
    "built-in functions"
   ]
  },
  {
   "attachments": {},
   "cell_type": "markdown",
   "metadata": {},
   "source": [
    "print functions"
   ]
  },
  {
   "cell_type": "code",
   "execution_count": 17,
   "metadata": {},
   "outputs": [
    {
     "name": "stdout",
     "output_type": "stream",
     "text": [
      "Hello, World!\n",
      "My name is Alice and I am 25 years old.\n",
      "The value of pi is 3.14\n"
     ]
    }
   ],
   "source": [
    "message = \"Hello, World!\"\n",
    "print(message)\n",
    "\n",
    "name = \"Alice\"\n",
    "age = 25\n",
    "print(\"My name is\", name, \"and I am\", age, \"years old.\")\n",
    "\n",
    "pi = 3.14159\n",
    "formatted_pi = format(pi, \".2f\")\n",
    "print(\"The value of pi is\", formatted_pi)\n"
   ]
  },
  {
   "attachments": {},
   "cell_type": "markdown",
   "metadata": {},
   "source": [
    "conversion functions"
   ]
  },
  {
   "cell_type": "code",
   "execution_count": 18,
   "metadata": {},
   "outputs": [
    {
     "name": "stdout",
     "output_type": "stream",
     "text": [
      "42\n",
      "6.0\n",
      "{1, 2, 3, 4, 5}\n"
     ]
    }
   ],
   "source": [
    "number = \"42\"\n",
    "converted_number = int(number)\n",
    "print(converted_number)\n",
    "\n",
    "result = 3.14 + 2.86\n",
    "rounded_result = round(result, 2)\n",
    "print(rounded_result)\n",
    "\n",
    "data = [1, 2, 3, 4, 5]\n",
    "converted_set = set(data)\n",
    "print(converted_set)\n"
   ]
  },
  {
   "attachments": {},
   "cell_type": "markdown",
   "metadata": {},
   "source": [
    "mathematical functions"
   ]
  },
  {
   "cell_type": "code",
   "execution_count": 19,
   "metadata": {},
   "outputs": [
    {
     "name": "stdout",
     "output_type": "stream",
     "text": [
      "10\n",
      "9\n",
      "25\n",
      "8\n"
     ]
    }
   ],
   "source": [
    "absolute_value = abs(-10)\n",
    "print(absolute_value)\n",
    "\n",
    "numbers = [5, 9, 3, 7, 1]\n",
    "maximum_value = max(numbers)\n",
    "print(maximum_value)\n",
    "\n",
    "summation = sum(numbers)\n",
    "print(summation)\n",
    "\n",
    "power_result = pow(2, 3)\n",
    "print(power_result)\n"
   ]
  },
  {
   "attachments": {},
   "cell_type": "markdown",
   "metadata": {},
   "source": [
    "sequence functions"
   ]
  },
  {
   "cell_type": "code",
   "execution_count": 20,
   "metadata": {},
   "outputs": [
    {
     "name": "stdout",
     "output_type": "stream",
     "text": [
      "13\n",
      "[1, 2, 3, 5, 8]\n",
      "[3, 1, 8, 2, 5]\n",
      "[(0, 'apple'), (1, 'banana'), (2, 'cherry')]\n"
     ]
    }
   ],
   "source": [
    "sentence = \"Hello, world!\"\n",
    "length = len(sentence)\n",
    "print(length)\n",
    "\n",
    "numbers = [5, 2, 8, 1, 3]\n",
    "sorted_numbers = sorted(numbers)\n",
    "print(sorted_numbers)\n",
    "\n",
    "reversed_numbers = reversed(numbers)\n",
    "print(list(reversed_numbers))\n",
    "\n",
    "fruits = ['apple', 'banana', 'cherry']\n",
    "enumerated_fruits = enumerate(fruits)\n",
    "print(list(enumerated_fruits))\n"
   ]
  },
  {
   "attachments": {},
   "cell_type": "markdown",
   "metadata": {},
   "source": [
    "input functions"
   ]
  },
  {
   "cell_type": "code",
   "execution_count": 21,
   "metadata": {},
   "outputs": [
    {
     "name": "stdout",
     "output_type": "stream",
     "text": [
      "Hello, rebeca\n",
      "You are 19 years old.\n"
     ]
    }
   ],
   "source": [
    "name = input(\"Enter your name: \")\n",
    "print(\"Hello,\", name)\n",
    "\n",
    "age = int(input(\"Enter your age: \"))\n",
    "print(\"You are\", age, \"years old.\")\n"
   ]
  },
  {
   "attachments": {},
   "cell_type": "markdown",
   "metadata": {},
   "source": [
    "file functions"
   ]
  },
  {
   "cell_type": "code",
   "execution_count": 23,
   "metadata": {},
   "outputs": [],
   "source": [
    "# file = open(\"example.txt\", \"r\")\n",
    "# file_contents = file.read()\n",
    "# print(file_contents)\n",
    "# file.close()\n",
    "\n",
    "# file = open(\"output.txt\", \"w\")\n",
    "# file.write(\"This is some text.\")\n",
    "# file.close()\n"
   ]
  },
  {
   "attachments": {},
   "cell_type": "markdown",
   "metadata": {},
   "source": [
    "type functions"
   ]
  },
  {
   "cell_type": "code",
   "execution_count": 25,
   "metadata": {},
   "outputs": [
    {
     "name": "stdout",
     "output_type": "stream",
     "text": [
      "<class 'int'>\n",
      "True\n"
     ]
    }
   ],
   "source": [
    "value = 42\n",
    "value_type = type(value)\n",
    "print(value_type)\n",
    "\n",
    "numbers = [5, 9, 3, 7, 1]\n",
    "is_list = isinstance(numbers, list)\n",
    "print(is_list)\n"
   ]
  },
  {
   "attachments": {},
   "cell_type": "markdown",
   "metadata": {},
   "source": [
    "None value\n",
    "\n",
    "serves as a special value that represents the absence of a specific value or object"
   ]
  },
  {
   "cell_type": "code",
   "execution_count": 27,
   "metadata": {},
   "outputs": [
    {
     "name": "stdout",
     "output_type": "stream",
     "text": [
      "None\n",
      "Operation failed.\n"
     ]
    }
   ],
   "source": [
    "def do_something():\n",
    "    # Function code\n",
    "    # ...\n",
    "    # No return statement\n",
    "    return None\n",
    "\n",
    "result = do_something()\n",
    "print(result)\n",
    "\n",
    "\n",
    "if result is not None:\n",
    "    print(\"Operation result:\", result)\n",
    "else:\n",
    "    print(\"Operation failed.\")"
   ]
  },
  {
   "attachments": {},
   "cell_type": "markdown",
   "metadata": {},
   "source": [
    "unpacking or splat operator *[a, ...]\n",
    "\n",
    "It allows you to pass each element of the list as individual arguments to the function."
   ]
  },
  {
   "cell_type": "code",
   "execution_count": 28,
   "metadata": {},
   "outputs": [
    {
     "name": "stdout",
     "output_type": "stream",
     "text": [
      "x = 10\n",
      "y = 20\n",
      "z = 30\n"
     ]
    }
   ],
   "source": [
    "def print_values(x, y, z):\n",
    "    print(\"x =\", x)\n",
    "    print(\"y =\", y)\n",
    "    print(\"z =\", z)\n",
    "\n",
    "my_list = [10, 20, 30]\n",
    "print_values(*my_list)"
   ]
  },
  {
   "attachments": {},
   "cell_type": "markdown",
   "metadata": {},
   "source": [
    "**Objects and Classes**"
   ]
  },
  {
   "attachments": {},
   "cell_type": "markdown",
   "metadata": {},
   "source": [
    "Classes provide a way to organize and structure code by grouping related data and behavior together. Objects created from classes are instances of those classes, allowing us to create and interact with multiple objects based on a common template.\n",
    "\n",
    "Object-oriented programming enables concepts like inheritance, polymorphism, and encapsulation, which enhance code organization, reusability, and maintainability."
   ]
  },
  {
   "cell_type": "code",
   "execution_count": 29,
   "metadata": {},
   "outputs": [
    {
     "name": "stdout",
     "output_type": "stream",
     "text": [
      "Toyota\n",
      "Red\n",
      "Engine started. Vroom vroom!\n",
      "Engine started. Vroom vroom!\n"
     ]
    }
   ],
   "source": [
    "# Creating a class named \"Car\"\n",
    "class Car:\n",
    "    def __init__(self, brand, color):\n",
    "        self.brand = brand\n",
    "        self.color = color\n",
    "\n",
    "    def start_engine(self):\n",
    "        print(\"Engine started. Vroom vroom!\")\n",
    "\n",
    "# Creating objects (instances) of the class \"Car\"\n",
    "car1 = Car(\"Toyota\", \"Blue\")\n",
    "car2 = Car(\"Honda\", \"Red\")\n",
    "\n",
    "# Accessing object attributes and invoking methods\n",
    "print(car1.brand)   # Output: Toyota\n",
    "print(car2.color)   # Output: Red\n",
    "\n",
    "car1.start_engine()   # Output: Engine started. Vroom vroom!\n",
    "car2.start_engine()   # Output: Engine started. Vroom vroom!\n"
   ]
  }
 ],
 "metadata": {
  "kernelspec": {
   "display_name": "Python 3",
   "language": "python",
   "name": "python3"
  },
  "language_info": {
   "codemirror_mode": {
    "name": "ipython",
    "version": 3
   },
   "file_extension": ".py",
   "mimetype": "text/x-python",
   "name": "python",
   "nbconvert_exporter": "python",
   "pygments_lexer": "ipython3",
   "version": "3.10.5"
  },
  "orig_nbformat": 4
 },
 "nbformat": 4,
 "nbformat_minor": 2
}
