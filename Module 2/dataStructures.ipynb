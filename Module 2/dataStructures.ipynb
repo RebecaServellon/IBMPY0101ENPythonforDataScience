{
 "cells": [
  {
   "attachments": {},
   "cell_type": "markdown",
   "metadata": {},
   "source": [
    "# **Data Structures**"
   ]
  },
  {
   "attachments": {},
   "cell_type": "markdown",
   "metadata": {},
   "source": [
    "**Lists [a, b, c, ...]** \n",
    "\n",
    "Secuencias ordenadas mutables, se pueden acceder por indexes, positivos y negativos, también permite slicing, nesting, valores repetidos, entre listas se pueden concatenar"
   ]
  },
  {
   "cell_type": "code",
   "execution_count": 43,
   "metadata": {},
   "outputs": [
    {
     "name": "stdout",
     "output_type": "stream",
     "text": [
      "['Coffee', 10.5, 'Sugar', 99]\n",
      "['Coffee', 10.5, 'Sugar', 'Melocoton']\n",
      "Coffee\n",
      "Melocoton\n",
      "['Coffee', 10.5]\n",
      "['Coffee', 'Sugar']\n",
      "[10.5, 'Sugar']\n",
      "[10.5, 'Sugar', 'Melocoton', 'Vainilla', 'Vainilla']\n"
     ]
    }
   ],
   "source": [
    "myList = [\"Coffee\", 10.50, \"Sugar\", 99]\n",
    "print(myList)\n",
    "myList[3] = \"Melocoton\"\n",
    "print(myList)\n",
    "\n",
    "myList2 = myList + [\"Vainilla\"] * 2\n",
    "print(myList[0])\n",
    "print(myList[-1])\n",
    "print(myList[0:2])\n",
    "print(myList[0:3:2])\n",
    "print(myList[1:3])\n",
    "print(myList2[1:])"
   ]
  },
  {
   "attachments": {},
   "cell_type": "markdown",
   "metadata": {},
   "source": [
    "Aliasing\n",
    "\n",
    "Se tienen dos variables refiriendose a la misma lista en memoria, si se cambia una afecta a la otra, al asignar una lista no se copia la lista en spi, sino su referencia\n",
    "\n",
    "\n"
   ]
  },
  {
   "cell_type": "code",
   "execution_count": 33,
   "metadata": {},
   "outputs": [
    {
     "name": "stdout",
     "output_type": "stream",
     "text": [
      "[1, 2, 3, ['a', 'b'], 4]\n"
     ]
    }
   ],
   "source": [
    "lista1 = [1, 2, 3, [\"a\", \"b\"]]\n",
    "lista2 = lista1  # Alias de lista1\n",
    "\n",
    "lista2.append(4)\n",
    "\n",
    "print(lista1) "
   ]
  },
  {
   "attachments": {},
   "cell_type": "markdown",
   "metadata": {},
   "source": [
    "Clone\n",
    "\n",
    "Para evitar lo anterior, si así se requiere se puede clonar la lista con slicing, pero esto es de manera superficial, si se contienen datos más complejos es recomendable usar el método copy"
   ]
  },
  {
   "cell_type": "code",
   "execution_count": 37,
   "metadata": {},
   "outputs": [
    {
     "name": "stdout",
     "output_type": "stream",
     "text": [
      "[1, 2, 3]\n",
      "[1, 2, 3, 4]\n"
     ]
    }
   ],
   "source": [
    "lista1 = [1, 2, 3]\n",
    "lista2 = lista1[:]  # Alias de lista1\n",
    "\n",
    "lista2.append(4)\n",
    "\n",
    "print(lista1) \n",
    "print(lista2) "
   ]
  },
  {
   "cell_type": "code",
   "execution_count": 39,
   "metadata": {},
   "outputs": [
    {
     "name": "stdout",
     "output_type": "stream",
     "text": [
      "[[1, 2], [3, 4], [5, 6]]\n",
      "[[1, 2], [3, 4], [5, 6]]\n",
      "[[10, 2], [3, 4], [5, 6]]\n",
      "[[10, 2], [3, 4], [5, 6]]\n"
     ]
    }
   ],
   "source": [
    "original_list = [[1, 2], [3, 4], [5, 6]]\n",
    "cloned_list = original_list[:]\n",
    "\n",
    "print(original_list)  # Output: [[1, 2], [3, 4], [5, 6]]\n",
    "print(cloned_list)    # Output: [[1, 2], [3, 4], [5, 6]]\n",
    "\n",
    "# Modificar un elemento en la lista clonada\n",
    "cloned_list[0][0] = 10\n",
    "\n",
    "print(original_list)  # Output: [[10, 2], [3, 4], [5, 6]]\n",
    "print(cloned_list)    # Output: [[10, 2], [3, 4], [5, 6]]"
   ]
  },
  {
   "cell_type": "code",
   "execution_count": 40,
   "metadata": {},
   "outputs": [
    {
     "name": "stdout",
     "output_type": "stream",
     "text": [
      "[[1, 2], [3, 4], [5, 6]]\n",
      "[[1, 2], [3, 4], [5, 6]]\n",
      "[[1, 2], [3, 4], [5, 6]]\n",
      "[[10, 2], [3, 4], [5, 6]]\n"
     ]
    }
   ],
   "source": [
    "import copy\n",
    "\n",
    "original_list = [[1, 2], [3, 4], [5, 6]]\n",
    "cloned_list = copy.deepcopy(original_list)\n",
    "\n",
    "print(original_list)  # Output: [[1, 2], [3, 4], [5, 6]]\n",
    "print(cloned_list)    # Output: [[1, 2], [3, 4], [5, 6]]\n",
    "\n",
    "# Modificar un elemento en la lista clonada\n",
    "cloned_list[0][0] = 10\n",
    "\n",
    "print(original_list)  # Output: [[1, 2], [3, 4], [5, 6]]\n",
    "print(cloned_list)    # Output: [[10, 2], [3, 4], [5, 6]]"
   ]
  },
  {
   "attachments": {},
   "cell_type": "markdown",
   "metadata": {},
   "source": [
    "sort and sorted method\n",
    "\n",
    "```python\n",
    "lista.sort(reverse = True)\n",
    "sorted(lista, reverse = True)\n",
    "```"
   ]
  },
  {
   "attachments": {},
   "cell_type": "markdown",
   "metadata": {},
   "source": [
    "The sort() method is a list method that sorts the elements of a list in-place, meaning it modifies the original list. It does not return a new sorted list; instead, it sorts the list itself."
   ]
  },
  {
   "cell_type": "code",
   "execution_count": 2,
   "metadata": {},
   "outputs": [
    {
     "name": "stdout",
     "output_type": "stream",
     "text": [
      "[1, 2, 3, 5, 8]\n"
     ]
    }
   ],
   "source": [
    "numbers = [5, 2, 8, 1, 3]\n",
    "numbers.sort()\n",
    "print(numbers)  \n"
   ]
  },
  {
   "attachments": {},
   "cell_type": "markdown",
   "metadata": {},
   "source": [
    "In this example, the sorted() function is used with the numbers list. It creates a new list, sorted_numbers, which contains the sorted elements. The original list remains unchanged, and the sorted list is printed."
   ]
  },
  {
   "cell_type": "code",
   "execution_count": 1,
   "metadata": {},
   "outputs": [
    {
     "name": "stdout",
     "output_type": "stream",
     "text": [
      "[1, 2, 3, 5, 8]\n"
     ]
    }
   ],
   "source": [
    "numbers = [5, 2, 8, 1, 3]\n",
    "sorted_numbers = sorted(numbers)\n",
    "print(sorted_numbers)"
   ]
  },
  {
   "attachments": {},
   "cell_type": "markdown",
   "metadata": {},
   "source": [
    "extend method\n",
    "```python\n",
    "lista.extend(iterable)\n",
    "```\n",
    "No devuelve un nuevo objeto, sino que modifica la lista original agregandole los nuevos elementos al final"
   ]
  },
  {
   "cell_type": "code",
   "execution_count": 20,
   "metadata": {},
   "outputs": [
    {
     "name": "stdout",
     "output_type": "stream",
     "text": [
      "[1, 2, 3, 4, 5, 6]\n",
      "[1, 2, 3, 4, 5, 6, 'a', 'b', 'c']\n"
     ]
    }
   ],
   "source": [
    "lista1 = [1, 2, 3]\n",
    "lista2 = [4, 5, 6]\n",
    "\n",
    "lista1.extend(lista2)\n",
    "print(lista1)  # Output: [1, 2, 3, 4, 5, 6]\n",
    "\n",
    "cadena = \"abc\"\n",
    "lista1.extend(cadena)\n",
    "print(lista1)  # Output: [1, 2, 3, 4, 5, 6, 'a', 'b', 'c']"
   ]
  },
  {
   "attachments": {},
   "cell_type": "markdown",
   "metadata": {},
   "source": [
    "append method\n",
    "```python\n",
    "lista.append(elemento)\n",
    "```\n",
    "Toma un único param que es el elemento que va a agregar a la lista"
   ]
  },
  {
   "cell_type": "code",
   "execution_count": 22,
   "metadata": {},
   "outputs": [
    {
     "name": "stdout",
     "output_type": "stream",
     "text": [
      "[1, 2, 3, 4, ('cien', 'noventa y nueve')]\n"
     ]
    }
   ],
   "source": [
    "numeros = [1, 2, 3, 4]\n",
    "numeros.append((\"cien\", \"noventa y nueve\"))\n",
    "print(numeros)  # Salida: [1, 2, 3, 4, 5, (\"cien\", \"noventa y nueve\")]"
   ]
  },
  {
   "attachments": {},
   "cell_type": "markdown",
   "metadata": {},
   "source": [
    "del keyword\n",
    "```python\n",
    "del(lista[indice])\n",
    "```"
   ]
  },
  {
   "cell_type": "code",
   "execution_count": 28,
   "metadata": {},
   "outputs": [
    {
     "name": "stdout",
     "output_type": "stream",
     "text": [
      "[2, 3, 4]\n"
     ]
    }
   ],
   "source": [
    "numeros = [1, 2, 3, 4] \n",
    "del(numeros[0])\n",
    "print(numeros)"
   ]
  },
  {
   "attachments": {},
   "cell_type": "markdown",
   "metadata": {},
   "source": [
    "split method\n",
    "```python\n",
    "string.split(separador, maxsplit)\n",
    "```\n",
    "dividir una cadena en una lista de subcadenas, utilizando un separador específico, si no se indica usa espacio en blanco"
   ]
  },
  {
   "cell_type": "code",
   "execution_count": 29,
   "metadata": {},
   "outputs": [
    {
     "name": "stdout",
     "output_type": "stream",
     "text": [
      "['Hola,', 'cómo', 'estás?', 'Bien,', 'gracias!']\n"
     ]
    }
   ],
   "source": [
    "string = \"Hola, cómo estás? Bien, gracias!\"\n",
    "result = string.split()\n",
    "print(result)"
   ]
  },
  {
   "attachments": {},
   "cell_type": "markdown",
   "metadata": {},
   "source": [
    "**Tuples (a, b, c, ...)**"
   ]
  },
  {
   "attachments": {},
   "cell_type": "markdown",
   "metadata": {},
   "source": [
    "Secuencias ordenadas inmutables, se pueden acceder por indexes, positivos y negativos, también permite slicing, nesting, valores repetidos"
   ]
  },
  {
   "cell_type": "code",
   "execution_count": 19,
   "metadata": {},
   "outputs": [
    {
     "name": "stdout",
     "output_type": "stream",
     "text": [
      "Coffee\n",
      "Sugar\n",
      "('Coffee', 10.5)\n",
      "('Coffee', 'Sugar')\n",
      "(10.5, 'Sugar')\n"
     ]
    }
   ],
   "source": [
    "myTuple = (\"Coffee\", 10.50, \"Sugar\")\n",
    "print(myTuple[0])\n",
    "print(myTuple[-1])\n",
    "print(myTuple[0:2])\n",
    "print(myTuple[0:3:2])\n",
    "print(myTuple[1:3])"
   ]
  },
  {
   "attachments": {},
   "cell_type": "markdown",
   "metadata": {},
   "source": [
    "Sorted method\n",
    "```python\n",
    "sorted(iterable, key, reverse)\n",
    "```\n",
    "key (opcional): Este parámetro especifica una función de clave que se utilizará para personalizar el ordenamiento \n",
    "```python\n",
    "key=lambda x: x[1]\n",
    "\n",
    "```"
   ]
  },
  {
   "cell_type": "code",
   "execution_count": 14,
   "metadata": {},
   "outputs": [
    {
     "name": "stdout",
     "output_type": "stream",
     "text": [
      "Tupla: (12, 46, 2, 78, 60, 20, 86, 54, 38, 16)\n",
      "Tupla ordenada: [2, 12, 16, 20, 38, 46, 54, 60, 78, 86]\n",
      "Tupla ordenada por pares: [2, 12, 16, 20, 38, 46, 54, 60, 78, 86]\n",
      "Tupla ordenada por pares reverso: [86, 78, 60, 54, 46, 38, 20, 16, 12, 2]\n"
     ]
    }
   ],
   "source": [
    "myTupleNum = (12, 46, 2, 78, 60, 20, 86, 54, 38, 16)\n",
    "sortedTuple = sorted(myTupleNum)\n",
    "\n",
    "# Se ordenan los números pares de forma ascendente, si existe alguno impar se coloca al inicio\n",
    "sortedTupleLambdaPares = sorted(myTupleNum, key = lambda x : (x % 2, x), reverse = False)\n",
    "sortedTupleLambdaParesReverse = sorted(myTupleNum, key = lambda x : (x % 2, x), reverse = True)\n",
    "\n",
    "print(f\"Tupla: {myTupleNum}\")\n",
    "print(f\"Tupla ordenada: {sortedTuple}\")\n",
    "print(f\"Tupla ordenada por pares: {sortedTupleLambdaPares}\")\n",
    "print(f\"Tupla ordenada por pares reverso: {sortedTupleLambdaParesReverse}\")"
   ]
  },
  {
   "attachments": {},
   "cell_type": "markdown",
   "metadata": {},
   "source": [
    "**Sets {a, b, c, ...}**"
   ]
  },
  {
   "attachments": {},
   "cell_type": "markdown",
   "metadata": {},
   "source": [
    "Tipo de colección no ordenado - no se registran las posiciones de los elementos - y no permite elementos repetidos"
   ]
  },
  {
   "cell_type": "code",
   "execution_count": 44,
   "metadata": {},
   "outputs": [
    {
     "name": "stdout",
     "output_type": "stream",
     "text": [
      "{'rock', 'Pop', 'pop'}\n"
     ]
    }
   ],
   "source": [
    "mySet = {\"pop\", \"pop\", \"Pop\", \"rock\"}\n",
    "print(mySet)"
   ]
  },
  {
   "attachments": {},
   "cell_type": "markdown",
   "metadata": {},
   "source": [
    "type-casting lista a set con el set method"
   ]
  },
  {
   "cell_type": "code",
   "execution_count": 45,
   "metadata": {},
   "outputs": [
    {
     "name": "stdout",
     "output_type": "stream",
     "text": [
      "{1, 2, 3, 4, 5}\n"
     ]
    }
   ],
   "source": [
    "lista = [1, 2, 3, 2, 4, 5, 1]\n",
    "\n",
    "conjunto = set(lista)\n",
    "#conjunto = lista.set()\n",
    "\n",
    "print(conjunto) "
   ]
  },
  {
   "attachments": {},
   "cell_type": "markdown",
   "metadata": {},
   "source": [
    "Set operations"
   ]
  },
  {
   "attachments": {},
   "cell_type": "markdown",
   "metadata": {},
   "source": [
    "in keyword"
   ]
  },
  {
   "cell_type": "code",
   "execution_count": 51,
   "metadata": {},
   "outputs": [
    {
     "name": "stdout",
     "output_type": "stream",
     "text": [
      "True\n",
      "False\n",
      "True\n"
     ]
    }
   ],
   "source": [
    "set1 = {1, 2, 3, 4, 5}\n",
    "\n",
    "print(3 in set1)\n",
    "print(3 not in set1) \n",
    "print(6 not in set1)"
   ]
  },
  {
   "attachments": {},
   "cell_type": "markdown",
   "metadata": {},
   "source": [
    "add method"
   ]
  },
  {
   "cell_type": "code",
   "execution_count": 48,
   "metadata": {},
   "outputs": [
    {
     "name": "stdout",
     "output_type": "stream",
     "text": [
      "{1, 2, 3, 4}\n",
      "{1, 2, 3, 4}\n",
      "{1, 2, 3, 4, 5}\n"
     ]
    }
   ],
   "source": [
    "set1 = {1, 2, 3}\n",
    "\n",
    "set1.add(4)\n",
    "print(set1)  \n",
    "\n",
    "set1.add(2)\n",
    "print(set1)  # no se agregó duplicado\n",
    "\n",
    "set1.add(5)\n",
    "print(set1)"
   ]
  },
  {
   "attachments": {},
   "cell_type": "markdown",
   "metadata": {},
   "source": [
    "remove method\n",
    "\n",
    "si se trata de eliminar elementos que no existen se tiene un error KeyError"
   ]
  },
  {
   "cell_type": "code",
   "execution_count": 49,
   "metadata": {},
   "outputs": [
    {
     "name": "stdout",
     "output_type": "stream",
     "text": [
      "{1, 2, 4, 5}\n"
     ]
    }
   ],
   "source": [
    "set1 = {1, 2, 3, 4, 5}\n",
    "\n",
    "set1.remove(3)\n",
    "print(set1)"
   ]
  },
  {
   "attachments": {},
   "cell_type": "markdown",
   "metadata": {},
   "source": [
    "discard method\n",
    "\n",
    "eliminar un elemento de un conjunto solo si está presente, no genera error"
   ]
  },
  {
   "cell_type": "code",
   "execution_count": 50,
   "metadata": {},
   "outputs": [
    {
     "name": "stdout",
     "output_type": "stream",
     "text": [
      "{1, 2, 4, 5}\n",
      "{1, 2, 4, 5}\n"
     ]
    }
   ],
   "source": [
    "set1 = {1, 2, 3, 4, 5}\n",
    "\n",
    "set1.discard(3)\n",
    "print(set1) \n",
    "\n",
    "set1.discard(6)\n",
    "print(set1)"
   ]
  },
  {
   "attachments": {},
   "cell_type": "markdown",
   "metadata": {},
   "source": [
    "Mathematical operations"
   ]
  },
  {
   "attachments": {},
   "cell_type": "markdown",
   "metadata": {},
   "source": [
    "intersection &\n",
    "\n",
    "the intersection of two sets is a new set containing elements which are in both of those"
   ]
  },
  {
   "cell_type": "code",
   "execution_count": 52,
   "metadata": {},
   "outputs": [
    {
     "name": "stdout",
     "output_type": "stream",
     "text": [
      "{3}\n",
      "{3}\n"
     ]
    }
   ],
   "source": [
    "set1 = {1, 2, 3}\n",
    "set2 = {3, 4, 5}\n",
    "\n",
    "intersection_set = set1.intersection(set2)\n",
    "print(intersection_set)\n",
    "intersection_set = set1 & set2\n",
    "print(intersection_set)"
   ]
  },
  {
   "attachments": {},
   "cell_type": "markdown",
   "metadata": {},
   "source": [
    "union |\n",
    "\n",
    "the union of two sets is the new set of elements which contain all the items in both sets"
   ]
  },
  {
   "cell_type": "code",
   "execution_count": 53,
   "metadata": {},
   "outputs": [
    {
     "name": "stdout",
     "output_type": "stream",
     "text": [
      "{1, 2, 3, 4, 5}\n",
      "{1, 2, 3, 4, 5}\n"
     ]
    }
   ],
   "source": [
    "set1 = {1, 2, 3}\n",
    "set2 = {3, 4, 5}\n",
    "\n",
    "union_set = set1.union(set2)\n",
    "print(union_set) \n",
    "union_set = set1 | set2\n",
    "print(union_set)"
   ]
  },
  {
   "attachments": {},
   "cell_type": "markdown",
   "metadata": {},
   "source": [
    "difference -\n",
    "\n",
    "conjunto que contiene los elementos del primer conjunto que no están presentes en el segundo conjunto\n"
   ]
  },
  {
   "cell_type": "code",
   "execution_count": 54,
   "metadata": {},
   "outputs": [
    {
     "name": "stdout",
     "output_type": "stream",
     "text": [
      "{1, 2, 5}\n",
      "{1, 2, 5}\n"
     ]
    }
   ],
   "source": [
    "set1 = {1, 2, 3, 4, 5}\n",
    "set2 = {3, 4}\n",
    "\n",
    "difference_set = set1.difference(set2)\n",
    "print(difference_set)\n",
    "difference_set = set1 - set2\n",
    "print(difference_set)"
   ]
  },
  {
   "attachments": {},
   "cell_type": "markdown",
   "metadata": {},
   "source": [
    "symetric_difference ^\n",
    "\n",
    "conjunto que contiene los elementos que son exclusivos de cada uno de los dos conjuntos\n"
   ]
  },
  {
   "cell_type": "code",
   "execution_count": null,
   "metadata": {},
   "outputs": [],
   "source": [
    "set1 = {1, 2, 3}\n",
    "set2 = {3, 4, 5}\n",
    "\n",
    "symmetric_difference_set = set1.symmetric_difference(set2)\n",
    "print(symmetric_difference_set)\n",
    "symmetric_difference_set = set1 ^ set2\n",
    "print(symmetric_difference_set)"
   ]
  },
  {
   "attachments": {},
   "cell_type": "markdown",
   "metadata": {},
   "source": [
    "issubset <= \n",
    "\n",
    "verificar si un conjunto es un subconjunto de otro conjunto"
   ]
  },
  {
   "cell_type": "code",
   "execution_count": 60,
   "metadata": {},
   "outputs": [
    {
     "name": "stdout",
     "output_type": "stream",
     "text": [
      "True\n",
      "False\n",
      "False\n"
     ]
    }
   ],
   "source": [
    "set1 = {1, 2, 3, 4, 5}\n",
    "set2 = {1, 2, 3}\n",
    "set3 = {6, 7, 8}\n",
    "set4 = {6, 7, 8, 1}\n",
    "\n",
    "print(set2.issubset(set1))\n",
    "print(set3 <= set1)\n",
    "print(set4 <= set3)"
   ]
  },
  {
   "attachments": {},
   "cell_type": "markdown",
   "metadata": {},
   "source": [
    "**Dictionaries {}**"
   ]
  },
  {
   "attachments": {},
   "cell_type": "markdown",
   "metadata": {},
   "source": [
    "Tipo de colección que permite asociar keys con values separados por coma, los keys deben ser inmutables y únicos"
   ]
  },
  {
   "cell_type": "code",
   "execution_count": 66,
   "metadata": {},
   "outputs": [
    {
     "name": "stdout",
     "output_type": "stream",
     "text": [
      "Juan\n",
      "30\n",
      "35\n",
      "{'nombre': 'Juan', 'edad': 35, 'ciudad': 'Madrid', 'profesion': 'Ingeniero'}\n",
      "{'nombre': 'Juan', 'edad': 35, 'profesion': 'Ingeniero'}\n",
      "True\n",
      "False\n",
      "dict_keys(['nombre', 'edad', 'profesion'])\n",
      "dict_values(['Juan', 35, 'Ingeniero'])\n",
      "dict_items([('nombre', 'Juan'), ('edad', 35), ('profesion', 'Ingeniero')])\n",
      "3\n"
     ]
    }
   ],
   "source": [
    "diccionario = {\n",
    "    'nombre': 'Juan',\n",
    "    'edad': 30,\n",
    "    'ciudad': 'Madrid'\n",
    "}\n",
    "\n",
    "# Acceder a elementos\n",
    "print(diccionario['nombre'])\n",
    "print(diccionario.get('edad'))\n",
    "\n",
    "# Modificar un valor del diccionario\n",
    "diccionario['edad'] = 35\n",
    "print(diccionario['edad'])\n",
    "\n",
    "# Agregar un nuevo par clave-valor al diccionario\n",
    "diccionario['profesion'] = 'Ingeniero'\n",
    "print(diccionario) \n",
    "\n",
    "# Eliminar un elemento del diccionario\n",
    "del diccionario['ciudad']\n",
    "print(diccionario)\n",
    "\n",
    "# Verificar si una clave existe en el diccionario\n",
    "print('nombre' in diccionario)  \n",
    "print('ciudad' in diccionario) \n",
    "\n",
    "\n",
    "# Obtener una lista de todas las claves del diccionario\n",
    "claves = diccionario.keys()\n",
    "print(claves)  # Output: dict_keys(['nombre', 'edad', 'profesion'])\n",
    "\n",
    "# Obtener una lista de todos los valores del diccionario\n",
    "valores = diccionario.values()\n",
    "print(valores)  # Output: dict_values(['Juan', 35, 'Ingeniero'])\n",
    "\n",
    "# Obtener una lista de tuplas (clave, valor) de todos los elementos del diccionario\n",
    "items = diccionario.items()\n",
    "print(items)  # Output: dict_items([('nombre', 'Juan'), ('edad', 35), ('profesion', 'Ingeniero')])\n",
    "\n",
    "# Calcular la longitud (cantidad de elementos) del diccionario\n",
    "longitud = len(diccionario)\n",
    "print(longitud)  # Output: 3\n"
   ]
  }
 ],
 "metadata": {
  "kernelspec": {
   "display_name": "Python 3",
   "language": "python",
   "name": "python3"
  },
  "language_info": {
   "codemirror_mode": {
    "name": "ipython",
    "version": 3
   },
   "file_extension": ".py",
   "mimetype": "text/x-python",
   "name": "python",
   "nbconvert_exporter": "python",
   "pygments_lexer": "ipython3",
   "version": "3.10.5"
  },
  "orig_nbformat": 4
 },
 "nbformat": 4,
 "nbformat_minor": 2
}
